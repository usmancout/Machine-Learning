{
  "cells": [
    {
      "cell_type": "code",
      "execution_count": 6,
      "metadata": {
        "id": "ElhmcH2w2Ttv"
      },
      "outputs": [],
      "source": [
        "import pandas as pd\n",
        "import matplotlib.pyplot as plt\n",
        "import seaborn as sns\n",
        "from sklearn.model_selection import train_test_split\n",
        "from sklearn.preprocessing import StandardScaler, OneHotEncoder\n",
        "from sklearn.compose import ColumnTransformer\n",
        "from sklearn.pipeline import Pipeline\n",
        "from sklearn.linear_model import LogisticRegression\n",
        "from sklearn.ensemble import RandomForestClassifier, GradientBoostingClassifier\n",
        "from sklearn.svm import SVC\n",
        "from sklearn.metrics import classification_report, confusion_matrix, accuracy_score, roc_auc_score\n",
        "from sklearn.feature_selection import SelectKBest, chi2, RFE\n",
        "import numpy as np"
      ]
    },
    {
      "cell_type": "code",
      "execution_count": 8,
      "metadata": {},
      "outputs": [],
      "source": [
        "data=pd.read_csv('/home/usmancout/Documents/University Data /7th Semester/ML/Assignments/Machine Learning/Datasets/heart.csv')"
      ]
    },
    {
      "cell_type": "code",
      "execution_count": 9,
      "metadata": {},
      "outputs": [
        {
          "data": {
            "text/html": [
              "<div>\n",
              "<style scoped>\n",
              "    .dataframe tbody tr th:only-of-type {\n",
              "        vertical-align: middle;\n",
              "    }\n",
              "\n",
              "    .dataframe tbody tr th {\n",
              "        vertical-align: top;\n",
              "    }\n",
              "\n",
              "    .dataframe thead th {\n",
              "        text-align: right;\n",
              "    }\n",
              "</style>\n",
              "<table border=\"1\" class=\"dataframe\">\n",
              "  <thead>\n",
              "    <tr style=\"text-align: right;\">\n",
              "      <th></th>\n",
              "      <th>age</th>\n",
              "      <th>sex</th>\n",
              "      <th>cp</th>\n",
              "      <th>trestbps</th>\n",
              "      <th>chol</th>\n",
              "      <th>fbs</th>\n",
              "      <th>restecg</th>\n",
              "      <th>thalach</th>\n",
              "      <th>exang</th>\n",
              "      <th>oldpeak</th>\n",
              "      <th>slope</th>\n",
              "      <th>ca</th>\n",
              "      <th>thal</th>\n",
              "      <th>target</th>\n",
              "    </tr>\n",
              "  </thead>\n",
              "  <tbody>\n",
              "    <tr>\n",
              "      <th>0</th>\n",
              "      <td>52</td>\n",
              "      <td>1</td>\n",
              "      <td>0</td>\n",
              "      <td>125</td>\n",
              "      <td>212</td>\n",
              "      <td>0</td>\n",
              "      <td>1</td>\n",
              "      <td>168</td>\n",
              "      <td>0</td>\n",
              "      <td>1.0</td>\n",
              "      <td>2</td>\n",
              "      <td>2</td>\n",
              "      <td>3</td>\n",
              "      <td>0</td>\n",
              "    </tr>\n",
              "    <tr>\n",
              "      <th>1</th>\n",
              "      <td>53</td>\n",
              "      <td>1</td>\n",
              "      <td>0</td>\n",
              "      <td>140</td>\n",
              "      <td>203</td>\n",
              "      <td>1</td>\n",
              "      <td>0</td>\n",
              "      <td>155</td>\n",
              "      <td>1</td>\n",
              "      <td>3.1</td>\n",
              "      <td>0</td>\n",
              "      <td>0</td>\n",
              "      <td>3</td>\n",
              "      <td>0</td>\n",
              "    </tr>\n",
              "    <tr>\n",
              "      <th>2</th>\n",
              "      <td>70</td>\n",
              "      <td>1</td>\n",
              "      <td>0</td>\n",
              "      <td>145</td>\n",
              "      <td>174</td>\n",
              "      <td>0</td>\n",
              "      <td>1</td>\n",
              "      <td>125</td>\n",
              "      <td>1</td>\n",
              "      <td>2.6</td>\n",
              "      <td>0</td>\n",
              "      <td>0</td>\n",
              "      <td>3</td>\n",
              "      <td>0</td>\n",
              "    </tr>\n",
              "    <tr>\n",
              "      <th>3</th>\n",
              "      <td>61</td>\n",
              "      <td>1</td>\n",
              "      <td>0</td>\n",
              "      <td>148</td>\n",
              "      <td>203</td>\n",
              "      <td>0</td>\n",
              "      <td>1</td>\n",
              "      <td>161</td>\n",
              "      <td>0</td>\n",
              "      <td>0.0</td>\n",
              "      <td>2</td>\n",
              "      <td>1</td>\n",
              "      <td>3</td>\n",
              "      <td>0</td>\n",
              "    </tr>\n",
              "    <tr>\n",
              "      <th>4</th>\n",
              "      <td>62</td>\n",
              "      <td>0</td>\n",
              "      <td>0</td>\n",
              "      <td>138</td>\n",
              "      <td>294</td>\n",
              "      <td>1</td>\n",
              "      <td>1</td>\n",
              "      <td>106</td>\n",
              "      <td>0</td>\n",
              "      <td>1.9</td>\n",
              "      <td>1</td>\n",
              "      <td>3</td>\n",
              "      <td>2</td>\n",
              "      <td>0</td>\n",
              "    </tr>\n",
              "  </tbody>\n",
              "</table>\n",
              "</div>"
            ],
            "text/plain": [
              "   age  sex  cp  trestbps  chol  fbs  restecg  thalach  exang  oldpeak  slope  \\\n",
              "0   52    1   0       125   212    0        1      168      0      1.0      2   \n",
              "1   53    1   0       140   203    1        0      155      1      3.1      0   \n",
              "2   70    1   0       145   174    0        1      125      1      2.6      0   \n",
              "3   61    1   0       148   203    0        1      161      0      0.0      2   \n",
              "4   62    0   0       138   294    1        1      106      0      1.9      1   \n",
              "\n",
              "   ca  thal  target  \n",
              "0   2     3       0  \n",
              "1   0     3       0  \n",
              "2   0     3       0  \n",
              "3   1     3       0  \n",
              "4   3     2       0  "
            ]
          },
          "execution_count": 9,
          "metadata": {},
          "output_type": "execute_result"
        }
      ],
      "source": [
        "data.head(5)"
      ]
    },
    {
      "cell_type": "code",
      "execution_count": 10,
      "metadata": {},
      "outputs": [],
      "source": [
        "X_data=data.drop(['target'], axis=1)\n",
        "y_data=data['target']"
      ]
    },
    {
      "cell_type": "code",
      "execution_count": 12,
      "metadata": {},
      "outputs": [],
      "source": [
        "scaler=StandardScaler()\n",
        "X_data=pd.DataFrame(scaler.fit_transform(X_data), columns=X_data.columns)\n"
      ]
    },
    {
      "cell_type": "code",
      "execution_count": 13,
      "metadata": {},
      "outputs": [],
      "source": [
        "pca = PCA(n_components=0.95)  \n",
        "X_pca = pca.fit_transform(X_data)"
      ]
    },
    {
      "cell_type": "code",
      "execution_count": 14,
      "metadata": {},
      "outputs": [
        {
          "name": "stdout",
          "output_type": "stream",
          "text": [
            "        PC1       PC2       PC3       PC4       PC5       PC6       PC7  \\\n",
            "0 -0.522556 -1.112803  0.956816  1.149198  0.559252  1.505052  0.071292   \n",
            "1  2.590381 -0.533162  1.467315 -1.536614 -1.345335 -1.524630  1.469460   \n",
            "2  3.042352 -1.327521 -0.424765 -1.567204 -0.283814  0.738182  0.378211   \n",
            "3 -0.492522 -0.276720  0.801442  0.984277  0.487587  1.438634  0.385833   \n",
            "4  2.187464  1.951477 -0.385539 -0.295793  2.386144  0.563839  1.022689   \n",
            "\n",
            "        PC8       PC9      PC10      PC11      PC12  \n",
            "0 -0.049732  0.872570 -0.417433 -0.558838  0.356376  \n",
            "1 -0.594801 -0.127561 -1.139650 -0.654299  0.855773  \n",
            "2  1.397097 -0.836844 -0.450680 -0.519250  0.896456  \n",
            "3  1.566671  0.085219 -0.425601 -0.989851  0.243456  \n",
            "4 -1.682067  0.451377 -0.534908 -0.721091 -1.069638  \n"
          ]
        }
      ],
      "source": [
        "pca_columns = [f'PC{i+1}' for i in range(X_pca.shape[1])]\n",
        "X_pca_df = pd.DataFrame(X_pca, columns=pca_columns)\n",
        "\n",
        "print(X_pca_df.head())"
      ]
    },
    {
      "cell_type": "code",
      "execution_count": 15,
      "metadata": {},
      "outputs": [
        {
          "data": {
            "image/png": "[encoded data removed]",
            "text/plain": [
              "<Figure size 800x500 with 1 Axes>"
            ]
          },
          "metadata": {},
          "output_type": "display_data"
        }
      ],
      "source": [
        "import matplotlib.pyplot as plt\n",
        "import numpy as np\n",
        "\n",
        "explained_variance = pca.explained_variance_ratio_\n",
        "\n",
        "plt.figure(figsize=(8,5))\n",
        "plt.plot(np.cumsum(explained_variance), marker='o')\n",
        "plt.xlabel('Number of Principal Components')\n",
        "plt.ylabel('Cumulative Explained Variance')\n",
        "plt.title('Explained Variance by PCA Components')\n",
        "plt.grid(True)\n",
        "plt.show()\n"
      ]
    },
    {
      "cell_type": "code",
      "execution_count": 16,
      "metadata": {},
      "outputs": [],
      "source": [
        "X_train, X_test, y_train, y_test = train_test_split(X_pca, y_data, test_size=0.3, random_state=42)\n"
      ]
    },
    {
      "cell_type": "code",
      "execution_count": 17,
      "metadata": {},
      "outputs": [
        {
          "name": "stdout",
          "output_type": "stream",
          "text": [
            "PCA + RandomForest accuracy: 0.9903\n"
          ]
        }
      ],
      "source": [
        "clf = RandomForestClassifier()\n",
        "clf.fit(X_train, y_train)\n",
        "\n",
        "y_pred = clf.predict(X_test)\n",
        "accuracy = accuracy_score(y_test, y_pred)\n",
        "print(f\"PCA + RandomForest accuracy: {accuracy:.4f}\")"
      ]
    },
    {
      "cell_type": "code",
      "execution_count": 18,
      "metadata": {},
      "outputs": [],
      "source": [
        "X_train, X_test, y_train, y_test = train_test_split(X_data, y_data, test_size=0.3, random_state=42)\n"
      ]
    },
    {
      "cell_type": "code",
      "execution_count": 19,
      "metadata": {},
      "outputs": [],
      "source": [
        "from autofeat import AutoFeatClassifier\n",
        "from sklearn.model_selection import train_test_split\n",
        "from sklearn.ensemble import RandomForestClassifier\n",
        "from sklearn.metrics import accuracy_score\n",
        "\n",
        "from sklearn.preprocessing import PolynomialFeatures\n"
      ]
    },
    {
      "cell_type": "code",
      "execution_count": 21,
      "metadata": {},
      "outputs": [
        {
          "name": "stdout",
          "output_type": "stream",
          "text": [
            "\n",
            "Original Features (X_train):\n",
            "['age', 'sex', 'cp', 'trestbps', 'chol', 'fbs', 'restecg', 'thalach', 'exang', 'oldpeak', 'slope', 'ca', 'thal']\n",
            "\n",
            "Features after PolynomialFeatures:\n",
            "['age' 'sex' 'cp' 'trestbps' 'chol' 'fbs' 'restecg' 'thalach' 'exang'\n",
            " 'oldpeak' 'slope' 'ca' 'thal' 'age^2' 'age sex' 'age cp' 'age trestbps'\n",
            " 'age chol' 'age fbs' 'age restecg' 'age thalach' 'age exang'\n",
            " 'age oldpeak' 'age slope' 'age ca' 'age thal' 'sex^2' 'sex cp'\n",
            " 'sex trestbps' 'sex chol' 'sex fbs' 'sex restecg' 'sex thalach'\n",
            " 'sex exang' 'sex oldpeak' 'sex slope' 'sex ca' 'sex thal' 'cp^2'\n",
            " 'cp trestbps' 'cp chol' 'cp fbs' 'cp restecg' 'cp thalach' 'cp exang'\n",
            " 'cp oldpeak' 'cp slope' 'cp ca' 'cp thal' 'trestbps^2' 'trestbps chol'\n",
            " 'trestbps fbs' 'trestbps restecg' 'trestbps thalach' 'trestbps exang'\n",
            " 'trestbps oldpeak' 'trestbps slope' 'trestbps ca' 'trestbps thal'\n",
            " 'chol^2' 'chol fbs' 'chol restecg' 'chol thalach' 'chol exang'\n",
            " 'chol oldpeak' 'chol slope' 'chol ca' 'chol thal' 'fbs^2' 'fbs restecg'\n",
            " 'fbs thalach' 'fbs exang' 'fbs oldpeak' 'fbs slope' 'fbs ca' 'fbs thal'\n",
            " 'restecg^2' 'restecg thalach' 'restecg exang' 'restecg oldpeak'\n",
            " 'restecg slope' 'restecg ca' 'restecg thal' 'thalach^2' 'thalach exang'\n",
            " 'thalach oldpeak' 'thalach slope' 'thalach ca' 'thalach thal' 'exang^2'\n",
            " 'exang oldpeak' 'exang slope' 'exang ca' 'exang thal' 'oldpeak^2'\n",
            " 'oldpeak slope' 'oldpeak ca' 'oldpeak thal' 'slope^2' 'slope ca'\n",
            " 'slope thal' 'ca^2' 'ca thal' 'thal^2']\n",
            "\n",
            "Accuracy after PolynomialFeatures + RandomForest: 0.9805\n",
            "\n",
            "Accuracy with Original Features + RandomForest: 0.9805\n"
          ]
        }
      ],
      "source": [
        "from sklearn.ensemble import RandomForestClassifier\n",
        "from sklearn.preprocessing import PolynomialFeatures\n",
        "from sklearn.metrics import accuracy_score\n",
        "\n",
        "\n",
        "print(\"\\nOriginal Features (X_train):\")\n",
        "print(X_train.columns.tolist())\n",
        "\n",
        "poly = PolynomialFeatures(degree=2, include_bias=False)\n",
        "X_train_poly = poly.fit_transform(X_train)\n",
        "X_test_poly = poly.transform(X_test)\n",
        "\n",
        "print(\"\\nFeatures after PolynomialFeatures:\")\n",
        "print(poly.get_feature_names_out(X_train.columns))\n",
        "\n",
        "model_poly = RandomForestClassifier(random_state=42)\n",
        "model_poly.fit(X_train_poly, y_train)\n",
        "\n",
        "y_pred_poly = model_poly.predict(X_test_poly)\n",
        "acc_poly = accuracy_score(y_test, y_pred_poly)\n",
        "\n",
        "print(f\"\\nAccuracy after PolynomialFeatures + RandomForest: {acc_poly:.4f}\")\n",
        "\n",
        "model_orig = RandomForestClassifier(random_state=42)\n",
        "model_orig.fit(X_train, y_train)\n",
        "\n",
        "y_pred_orig = model_orig.predict(X_test)\n",
        "acc_orig = accuracy_score(y_test, y_pred_orig)\n",
        "\n",
        "print(f\"\\nAccuracy with Original Features + RandomForest: {acc_orig:.4f}\")\n"
      ]
    },
    {
      "cell_type": "code",
      "execution_count": null,
      "metadata": {},
      "outputs": [],
      "source": []
    }
  ],
  "metadata": {
    "colab": {
      "provenance": []
    },
    "kernelspec": {
      "display_name": "base",
      "language": "python",
      "name": "python3"
    },
    "language_info": {
      "codemirror_mode": {
        "name": "ipython",
        "version": 3
      },
      "file_extension": ".py",
      "mimetype": "text/x-python",
      "name": "python",
      "nbconvert_exporter": "python",
      "pygments_lexer": "ipython3",
      "version": "3.12.7"
    }
  },
  "nbformat": 4,
  "nbformat_minor": 0
}
